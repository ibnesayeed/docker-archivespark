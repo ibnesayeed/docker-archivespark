{
 "cells": [
  {
   "cell_type": "code",
   "execution_count": 1,
   "metadata": {
    "collapsed": true
   },
   "outputs": [],
   "source": [
    "import de.l3s.archivespark._\n",
    "import de.l3s.archivespark.implicits._\n",
    "import de.l3s.archivespark.enrich._\n",
    "import de.l3s.archivespark.enrich.functions._\n",
    "import de.l3s.archivespark.specific.warc.implicits._\n",
    "import de.l3s.archivespark.specific.warc._\n",
    "import de.l3s.archivespark.specific.warc.specs._"
   ]
  },
  {
   "cell_type": "code",
   "execution_count": 2,
   "metadata": {
    "collapsed": true
   },
   "outputs": [],
   "source": [
    "val rdd = ArchiveSpark.hdfs(\"/cdx/*.cdx\", \"/warc\")(sc)"
   ]
  },
  {
   "cell_type": "code",
   "execution_count": 3,
   "metadata": {
    "collapsed": false
   },
   "outputs": [
    {
     "data": {
      "text/plain": [
       "{\n",
       "  \"record\":{\n",
       "    \"redirectUrl\":\"-\",\n",
       "    \"timestamp\":\"20140103030321\",\n",
       "    \"digest\":\"B2LTWWPUOYAH7UIPQ7ZUPQ4VMBSVC36A\",\n",
       "    \"originalUrl\":\"http://example.com?example=1\",\n",
       "    \"surtUrl\":\"com,example)/?example=1\",\n",
       "    \"mime\":\"text/html\",\n",
       "    \"meta\":\"-\",\n",
       "    \"status\":200\n",
       "  }\n",
       "}"
      ]
     },
     "execution_count": 3,
     "metadata": {},
     "output_type": "execute_result"
    }
   ],
   "source": [
    "rdd.take(1).head.toJsonString"
   ]
  },
  {
   "cell_type": "code",
   "execution_count": 4,
   "metadata": {
    "collapsed": false
   },
   "outputs": [
    {
     "data": {
      "text/plain": [
       "{\n",
       "  \"record\":{\n",
       "    \"redirectUrl\":\"-\",\n",
       "    \"timestamp\":\"20140103030321\",\n",
       "    \"digest\":\"B2LTWWPUOYAH7UIPQ7ZUPQ4VMBSVC36A\",\n",
       "    \"originalUrl\":\"http://example.com?example=1\",\n",
       "    \"surtUrl\":\"com,example)/?example=1\",\n",
       "    \"mime\":\"text/html\",\n",
       "    \"meta\":\"-\",\n",
       "    \"status\":200\n",
       "  },\n",
       "  \"payload\":{\n",
       "    \"string\":\"<!doctype html>\\n<html>\\n<head>\\n    <title>Example Domain</title>\\n\\n    <meta charset=\\\"utf-8\\\" />\\n    <meta http-equiv=\\\"Content-type\\\" content=\\\"text/html; charset=utf-8\\\" />\\n    <meta name=\\\"viewport\\\" content=\\\"width=device-width, initial-scale=1\\\" />\\n    <style type=\\\"text/css\\\">\\n    body {\\n        background-color: #f0f0f2;\\n        margin: 0;\\n        padding: 0;\\n        font-family: \\\"Open Sans\\\", \\\"Helvetica Neue\\\", Helvetica, Arial, sans-serif;\\n        \\n ..."
      ]
     },
     "execution_count": 4,
     "metadata": {},
     "output_type": "execute_result"
    }
   ],
   "source": [
    "rdd.enrich(StringContent).take(1).head.toJsonString"
   ]
  },
  {
   "cell_type": "code",
   "execution_count": null,
   "metadata": {
    "collapsed": true
   },
   "outputs": [],
   "source": []
  }
 ],
 "metadata": {
  "kernelspec": {
   "display_name": "ArchiveSpark 2.0 (Toree, Spark 2.0.2)",
   "language": "",
   "name": "archivespark"
  },
  "language_info": {
   "name": "scala",
   "version": "2.11.8"
  }
 },
 "nbformat": 4,
 "nbformat_minor": 0
}
